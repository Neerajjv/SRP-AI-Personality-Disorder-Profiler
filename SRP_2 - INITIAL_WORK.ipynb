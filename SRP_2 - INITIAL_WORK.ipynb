{
  "nbformat": 4,
  "nbformat_minor": 0,
  "metadata": {
    "colab": {
      "provenance": [],
      "gpuType": "T4"
    },
    "kernelspec": {
      "name": "python3",
      "display_name": "Python 3"
    },
    "language_info": {
      "name": "python"
    },
    "accelerator": "GPU"
  },
  "cells": [
    {
      "cell_type": "code",
      "execution_count": 1,
      "metadata": {
        "id": "BAu7RmG631aA"
      },
      "outputs": [],
      "source": [
        "import numpy as np\n",
        "import pandas as pd\n",
        "import matplotlib.pyplot as plt\n",
        "import seaborn as sns\n",
        "import torch\n",
        "import torch.nn as nn\n",
        "import torch.nn.functional as F\n",
        "from torch.utils.data import Dataset, DataLoader\n",
        "from tqdm import tqdm\n",
        "from sklearn.model_selection import train_test_split\n",
        "from tensorflow.keras.preprocessing.text import Tokenizer\n",
        "from tensorflow.keras.preprocessing.sequence import pad_sequences"
      ]
    },
    {
      "cell_type": "code",
      "source": [
        "df = pd.read_csv('/content/DATA.csv')"
      ],
      "metadata": {
        "id": "JTw-Ymjm4OnG"
      },
      "execution_count": 2,
      "outputs": []
    },
    {
      "cell_type": "code",
      "source": [
        "df.head()"
      ],
      "metadata": {
        "colab": {
          "base_uri": "https://localhost:8080/",
          "height": 206
        },
        "id": "g8abmTKF4QXF",
        "outputId": "7746da41-3ee0-4d1e-dbfd-699b16746734"
      },
      "execution_count": 3,
      "outputs": [
        {
          "output_type": "execute_result",
          "data": {
            "text/plain": [
              "   Unnamed: 0                                          statement   status\n",
              "0           0                                         oh my gosh  Anxiety\n",
              "1           1  trouble sleeping, confused mind, restless hear...  Anxiety\n",
              "2           2  All wrong, back off dear, forward doubt. Stay ...  Anxiety\n",
              "3           3  I've shifted my focus to something else but I'...  Anxiety\n",
              "4           4  I'm restless and restless, it's been a month n...  Anxiety"
            ],
            "text/html": [
              "\n",
              "  <div id=\"df-5d2dafd2-dd8a-4f29-81b8-8a1e49e7a607\" class=\"colab-df-container\">\n",
              "    <div>\n",
              "<style scoped>\n",
              "    .dataframe tbody tr th:only-of-type {\n",
              "        vertical-align: middle;\n",
              "    }\n",
              "\n",
              "    .dataframe tbody tr th {\n",
              "        vertical-align: top;\n",
              "    }\n",
              "\n",
              "    .dataframe thead th {\n",
              "        text-align: right;\n",
              "    }\n",
              "</style>\n",
              "<table border=\"1\" class=\"dataframe\">\n",
              "  <thead>\n",
              "    <tr style=\"text-align: right;\">\n",
              "      <th></th>\n",
              "      <th>Unnamed: 0</th>\n",
              "      <th>statement</th>\n",
              "      <th>status</th>\n",
              "    </tr>\n",
              "  </thead>\n",
              "  <tbody>\n",
              "    <tr>\n",
              "      <th>0</th>\n",
              "      <td>0</td>\n",
              "      <td>oh my gosh</td>\n",
              "      <td>Anxiety</td>\n",
              "    </tr>\n",
              "    <tr>\n",
              "      <th>1</th>\n",
              "      <td>1</td>\n",
              "      <td>trouble sleeping, confused mind, restless hear...</td>\n",
              "      <td>Anxiety</td>\n",
              "    </tr>\n",
              "    <tr>\n",
              "      <th>2</th>\n",
              "      <td>2</td>\n",
              "      <td>All wrong, back off dear, forward doubt. Stay ...</td>\n",
              "      <td>Anxiety</td>\n",
              "    </tr>\n",
              "    <tr>\n",
              "      <th>3</th>\n",
              "      <td>3</td>\n",
              "      <td>I've shifted my focus to something else but I'...</td>\n",
              "      <td>Anxiety</td>\n",
              "    </tr>\n",
              "    <tr>\n",
              "      <th>4</th>\n",
              "      <td>4</td>\n",
              "      <td>I'm restless and restless, it's been a month n...</td>\n",
              "      <td>Anxiety</td>\n",
              "    </tr>\n",
              "  </tbody>\n",
              "</table>\n",
              "</div>\n",
              "    <div class=\"colab-df-buttons\">\n",
              "\n",
              "  <div class=\"colab-df-container\">\n",
              "    <button class=\"colab-df-convert\" onclick=\"convertToInteractive('df-5d2dafd2-dd8a-4f29-81b8-8a1e49e7a607')\"\n",
              "            title=\"Convert this dataframe to an interactive table.\"\n",
              "            style=\"display:none;\">\n",
              "\n",
              "  <svg xmlns=\"http://www.w3.org/2000/svg\" height=\"24px\" viewBox=\"0 -960 960 960\">\n",
              "    <path d=\"M120-120v-720h720v720H120Zm60-500h600v-160H180v160Zm220 220h160v-160H400v160Zm0 220h160v-160H400v160ZM180-400h160v-160H180v160Zm440 0h160v-160H620v160ZM180-180h160v-160H180v160Zm440 0h160v-160H620v160Z\"/>\n",
              "  </svg>\n",
              "    </button>\n",
              "\n",
              "  <style>\n",
              "    .colab-df-container {\n",
              "      display:flex;\n",
              "      gap: 12px;\n",
              "    }\n",
              "\n",
              "    .colab-df-convert {\n",
              "      background-color: #E8F0FE;\n",
              "      border: none;\n",
              "      border-radius: 50%;\n",
              "      cursor: pointer;\n",
              "      display: none;\n",
              "      fill: #1967D2;\n",
              "      height: 32px;\n",
              "      padding: 0 0 0 0;\n",
              "      width: 32px;\n",
              "    }\n",
              "\n",
              "    .colab-df-convert:hover {\n",
              "      background-color: #E2EBFA;\n",
              "      box-shadow: 0px 1px 2px rgba(60, 64, 67, 0.3), 0px 1px 3px 1px rgba(60, 64, 67, 0.15);\n",
              "      fill: #174EA6;\n",
              "    }\n",
              "\n",
              "    .colab-df-buttons div {\n",
              "      margin-bottom: 4px;\n",
              "    }\n",
              "\n",
              "    [theme=dark] .colab-df-convert {\n",
              "      background-color: #3B4455;\n",
              "      fill: #D2E3FC;\n",
              "    }\n",
              "\n",
              "    [theme=dark] .colab-df-convert:hover {\n",
              "      background-color: #434B5C;\n",
              "      box-shadow: 0px 1px 3px 1px rgba(0, 0, 0, 0.15);\n",
              "      filter: drop-shadow(0px 1px 2px rgba(0, 0, 0, 0.3));\n",
              "      fill: #FFFFFF;\n",
              "    }\n",
              "  </style>\n",
              "\n",
              "    <script>\n",
              "      const buttonEl =\n",
              "        document.querySelector('#df-5d2dafd2-dd8a-4f29-81b8-8a1e49e7a607 button.colab-df-convert');\n",
              "      buttonEl.style.display =\n",
              "        google.colab.kernel.accessAllowed ? 'block' : 'none';\n",
              "\n",
              "      async function convertToInteractive(key) {\n",
              "        const element = document.querySelector('#df-5d2dafd2-dd8a-4f29-81b8-8a1e49e7a607');\n",
              "        const dataTable =\n",
              "          await google.colab.kernel.invokeFunction('convertToInteractive',\n",
              "                                                    [key], {});\n",
              "        if (!dataTable) return;\n",
              "\n",
              "        const docLinkHtml = 'Like what you see? Visit the ' +\n",
              "          '<a target=\"_blank\" href=https://colab.research.google.com/notebooks/data_table.ipynb>data table notebook</a>'\n",
              "          + ' to learn more about interactive tables.';\n",
              "        element.innerHTML = '';\n",
              "        dataTable['output_type'] = 'display_data';\n",
              "        await google.colab.output.renderOutput(dataTable, element);\n",
              "        const docLink = document.createElement('div');\n",
              "        docLink.innerHTML = docLinkHtml;\n",
              "        element.appendChild(docLink);\n",
              "      }\n",
              "    </script>\n",
              "  </div>\n",
              "\n",
              "\n",
              "<div id=\"df-a8caee81-0e47-461e-a50b-13dd8ff3e2de\">\n",
              "  <button class=\"colab-df-quickchart\" onclick=\"quickchart('df-a8caee81-0e47-461e-a50b-13dd8ff3e2de')\"\n",
              "            title=\"Suggest charts\"\n",
              "            style=\"display:none;\">\n",
              "\n",
              "<svg xmlns=\"http://www.w3.org/2000/svg\" height=\"24px\"viewBox=\"0 0 24 24\"\n",
              "     width=\"24px\">\n",
              "    <g>\n",
              "        <path d=\"M19 3H5c-1.1 0-2 .9-2 2v14c0 1.1.9 2 2 2h14c1.1 0 2-.9 2-2V5c0-1.1-.9-2-2-2zM9 17H7v-7h2v7zm4 0h-2V7h2v10zm4 0h-2v-4h2v4z\"/>\n",
              "    </g>\n",
              "</svg>\n",
              "  </button>\n",
              "\n",
              "<style>\n",
              "  .colab-df-quickchart {\n",
              "      --bg-color: #E8F0FE;\n",
              "      --fill-color: #1967D2;\n",
              "      --hover-bg-color: #E2EBFA;\n",
              "      --hover-fill-color: #174EA6;\n",
              "      --disabled-fill-color: #AAA;\n",
              "      --disabled-bg-color: #DDD;\n",
              "  }\n",
              "\n",
              "  [theme=dark] .colab-df-quickchart {\n",
              "      --bg-color: #3B4455;\n",
              "      --fill-color: #D2E3FC;\n",
              "      --hover-bg-color: #434B5C;\n",
              "      --hover-fill-color: #FFFFFF;\n",
              "      --disabled-bg-color: #3B4455;\n",
              "      --disabled-fill-color: #666;\n",
              "  }\n",
              "\n",
              "  .colab-df-quickchart {\n",
              "    background-color: var(--bg-color);\n",
              "    border: none;\n",
              "    border-radius: 50%;\n",
              "    cursor: pointer;\n",
              "    display: none;\n",
              "    fill: var(--fill-color);\n",
              "    height: 32px;\n",
              "    padding: 0;\n",
              "    width: 32px;\n",
              "  }\n",
              "\n",
              "  .colab-df-quickchart:hover {\n",
              "    background-color: var(--hover-bg-color);\n",
              "    box-shadow: 0 1px 2px rgba(60, 64, 67, 0.3), 0 1px 3px 1px rgba(60, 64, 67, 0.15);\n",
              "    fill: var(--button-hover-fill-color);\n",
              "  }\n",
              "\n",
              "  .colab-df-quickchart-complete:disabled,\n",
              "  .colab-df-quickchart-complete:disabled:hover {\n",
              "    background-color: var(--disabled-bg-color);\n",
              "    fill: var(--disabled-fill-color);\n",
              "    box-shadow: none;\n",
              "  }\n",
              "\n",
              "  .colab-df-spinner {\n",
              "    border: 2px solid var(--fill-color);\n",
              "    border-color: transparent;\n",
              "    border-bottom-color: var(--fill-color);\n",
              "    animation:\n",
              "      spin 1s steps(1) infinite;\n",
              "  }\n",
              "\n",
              "  @keyframes spin {\n",
              "    0% {\n",
              "      border-color: transparent;\n",
              "      border-bottom-color: var(--fill-color);\n",
              "      border-left-color: var(--fill-color);\n",
              "    }\n",
              "    20% {\n",
              "      border-color: transparent;\n",
              "      border-left-color: var(--fill-color);\n",
              "      border-top-color: var(--fill-color);\n",
              "    }\n",
              "    30% {\n",
              "      border-color: transparent;\n",
              "      border-left-color: var(--fill-color);\n",
              "      border-top-color: var(--fill-color);\n",
              "      border-right-color: var(--fill-color);\n",
              "    }\n",
              "    40% {\n",
              "      border-color: transparent;\n",
              "      border-right-color: var(--fill-color);\n",
              "      border-top-color: var(--fill-color);\n",
              "    }\n",
              "    60% {\n",
              "      border-color: transparent;\n",
              "      border-right-color: var(--fill-color);\n",
              "    }\n",
              "    80% {\n",
              "      border-color: transparent;\n",
              "      border-right-color: var(--fill-color);\n",
              "      border-bottom-color: var(--fill-color);\n",
              "    }\n",
              "    90% {\n",
              "      border-color: transparent;\n",
              "      border-bottom-color: var(--fill-color);\n",
              "    }\n",
              "  }\n",
              "</style>\n",
              "\n",
              "  <script>\n",
              "    async function quickchart(key) {\n",
              "      const quickchartButtonEl =\n",
              "        document.querySelector('#' + key + ' button');\n",
              "      quickchartButtonEl.disabled = true;  // To prevent multiple clicks.\n",
              "      quickchartButtonEl.classList.add('colab-df-spinner');\n",
              "      try {\n",
              "        const charts = await google.colab.kernel.invokeFunction(\n",
              "            'suggestCharts', [key], {});\n",
              "      } catch (error) {\n",
              "        console.error('Error during call to suggestCharts:', error);\n",
              "      }\n",
              "      quickchartButtonEl.classList.remove('colab-df-spinner');\n",
              "      quickchartButtonEl.classList.add('colab-df-quickchart-complete');\n",
              "    }\n",
              "    (() => {\n",
              "      let quickchartButtonEl =\n",
              "        document.querySelector('#df-a8caee81-0e47-461e-a50b-13dd8ff3e2de button');\n",
              "      quickchartButtonEl.style.display =\n",
              "        google.colab.kernel.accessAllowed ? 'block' : 'none';\n",
              "    })();\n",
              "  </script>\n",
              "</div>\n",
              "\n",
              "    </div>\n",
              "  </div>\n"
            ],
            "application/vnd.google.colaboratory.intrinsic+json": {
              "type": "dataframe",
              "variable_name": "df",
              "summary": "{\n  \"name\": \"df\",\n  \"rows\": 53043,\n  \"fields\": [\n    {\n      \"column\": \"Unnamed: 0\",\n      \"properties\": {\n        \"dtype\": \"number\",\n        \"std\": 15312,\n        \"min\": 0,\n        \"max\": 53042,\n        \"num_unique_values\": 53043,\n        \"samples\": [\n          22261,\n          41400,\n          20065\n        ],\n        \"semantic_type\": \"\",\n        \"description\": \"\"\n      }\n    },\n    {\n      \"column\": \"statement\",\n      \"properties\": {\n        \"dtype\": \"string\",\n        \"num_unique_values\": 51073,\n        \"samples\": [\n          \"he's been a chain smoker for 30 years.\",\n          \"Dependence on therapist I attend IOP groups and individual therapy sessions at the same place, my therapist who I have worked with on and off for a year and a couple months just told me today that she is leaving soon and I am heartbroken. I love my therapist and I don't know how I am going to keep progressing without her. There will be a replacement for her but idk what to do, I don't want a different therapist. :(\",\n          \"These feelings constantly come back. Someone from my past that hurt me came back a month ago and once again disrespected me and i just feel like shit. Idk why these feelings keep resurfacing but it just hurts. I do not want to be over dramatic but Its hurts when you were nothing but loving/kind to someone and they disrespect you. I just hate feeling like this, feeling like i cannot trust anyone or that no one would ever truly love me unless i have something to offer. I am always worried about my looks and its just making me depressed. I really do not feel like i fit in with the world I am just here. Idk what my next step should be to get help but I am really going through it. (Yes I am in therapy) but how do i help myself ? I have been depressed/anxious for years and most day i do not even leave my house. But nobody around me seems to care and honestly I am tired of feeling this way. But at the same time i do not want to give up on myself bc i feel like I am here to be somebody great. I am just trying to find my way right now. It keeps coming back\"\n        ],\n        \"semantic_type\": \"\",\n        \"description\": \"\"\n      }\n    },\n    {\n      \"column\": \"status\",\n      \"properties\": {\n        \"dtype\": \"category\",\n        \"num_unique_values\": 7,\n        \"samples\": [\n          \"Anxiety\",\n          \"Normal\",\n          \"Bipolar\"\n        ],\n        \"semantic_type\": \"\",\n        \"description\": \"\"\n      }\n    }\n  ]\n}"
            }
          },
          "metadata": {},
          "execution_count": 3
        }
      ]
    },
    {
      "cell_type": "code",
      "source": [
        "df.isnull().sum()"
      ],
      "metadata": {
        "colab": {
          "base_uri": "https://localhost:8080/",
          "height": 178
        },
        "id": "65LGQopF4etn",
        "outputId": "ba47a513-23ff-4d87-8650-ccadeee7bd2a"
      },
      "execution_count": 4,
      "outputs": [
        {
          "output_type": "execute_result",
          "data": {
            "text/plain": [
              "Unnamed: 0      0\n",
              "statement     362\n",
              "status          0\n",
              "dtype: int64"
            ],
            "text/html": [
              "<div>\n",
              "<style scoped>\n",
              "    .dataframe tbody tr th:only-of-type {\n",
              "        vertical-align: middle;\n",
              "    }\n",
              "\n",
              "    .dataframe tbody tr th {\n",
              "        vertical-align: top;\n",
              "    }\n",
              "\n",
              "    .dataframe thead th {\n",
              "        text-align: right;\n",
              "    }\n",
              "</style>\n",
              "<table border=\"1\" class=\"dataframe\">\n",
              "  <thead>\n",
              "    <tr style=\"text-align: right;\">\n",
              "      <th></th>\n",
              "      <th>0</th>\n",
              "    </tr>\n",
              "  </thead>\n",
              "  <tbody>\n",
              "    <tr>\n",
              "      <th>Unnamed: 0</th>\n",
              "      <td>0</td>\n",
              "    </tr>\n",
              "    <tr>\n",
              "      <th>statement</th>\n",
              "      <td>362</td>\n",
              "    </tr>\n",
              "    <tr>\n",
              "      <th>status</th>\n",
              "      <td>0</td>\n",
              "    </tr>\n",
              "  </tbody>\n",
              "</table>\n",
              "</div><br><label><b>dtype:</b> int64</label>"
            ]
          },
          "metadata": {},
          "execution_count": 4
        }
      ]
    },
    {
      "cell_type": "code",
      "source": [
        "df.drop('Unnamed: 0', axis=1, inplace=True)"
      ],
      "metadata": {
        "id": "TEKx3ymV4yCJ"
      },
      "execution_count": 5,
      "outputs": []
    },
    {
      "cell_type": "code",
      "source": [
        "df.dropna(inplace=True)"
      ],
      "metadata": {
        "id": "LyjCHj3b4zlJ"
      },
      "execution_count": 6,
      "outputs": []
    },
    {
      "cell_type": "code",
      "source": [
        "df.info()"
      ],
      "metadata": {
        "colab": {
          "base_uri": "https://localhost:8080/"
        },
        "id": "TpicZRp24q9_",
        "outputId": "2ff982cc-113e-4274-a9ba-9574151f27c6"
      },
      "execution_count": 7,
      "outputs": [
        {
          "output_type": "stream",
          "name": "stdout",
          "text": [
            "<class 'pandas.core.frame.DataFrame'>\n",
            "Index: 52681 entries, 0 to 53042\n",
            "Data columns (total 2 columns):\n",
            " #   Column     Non-Null Count  Dtype \n",
            "---  ------     --------------  ----- \n",
            " 0   statement  52681 non-null  object\n",
            " 1   status     52681 non-null  object\n",
            "dtypes: object(2)\n",
            "memory usage: 1.2+ MB\n"
          ]
        }
      ]
    },
    {
      "cell_type": "code",
      "source": [
        "df.shape"
      ],
      "metadata": {
        "colab": {
          "base_uri": "https://localhost:8080/"
        },
        "id": "q1U-gn3u42fg",
        "outputId": "123c2bc5-6dce-494b-8252-08fdf503b6e1"
      },
      "execution_count": 8,
      "outputs": [
        {
          "output_type": "execute_result",
          "data": {
            "text/plain": [
              "(52681, 2)"
            ]
          },
          "metadata": {},
          "execution_count": 8
        }
      ]
    },
    {
      "cell_type": "code",
      "source": [
        "print(df['status'].value_counts())\n",
        "\n",
        "\n",
        "# Get value counts\n",
        "status_counts = df['status'].value_counts()\n",
        "\n",
        "# Plot bar chart\n",
        "plt.figure(figsize=(8, 5))\n",
        "sns.barplot(x=status_counts.index, y=status_counts.values, palette=\"viridis\")\n",
        "\n",
        "# Labels and title\n",
        "plt.xlabel(\"Status\", fontsize=12)\n",
        "plt.ylabel(\"Count\", fontsize=12)\n",
        "plt.title(\"Distribution of Status\", fontsize=14)\n",
        "plt.xticks(rotation=45)  # Rotate labels if needed\n",
        "\n",
        "# Show plot\n",
        "plt.show()"
      ],
      "metadata": {
        "colab": {
          "base_uri": "https://localhost:8080/",
          "height": 849
        },
        "id": "ib5I6dJ-46RB",
        "outputId": "78883ad5-f9bb-4f0d-ae5d-35ff22c5f5a9"
      },
      "execution_count": 9,
      "outputs": [
        {
          "output_type": "stream",
          "name": "stdout",
          "text": [
            "status\n",
            "Normal                  16343\n",
            "Depression              15404\n",
            "Suicidal                10652\n",
            "Anxiety                  3841\n",
            "Bipolar                  2777\n",
            "Stress                   2587\n",
            "Personality disorder     1077\n",
            "Name: count, dtype: int64\n"
          ]
        },
        {
          "output_type": "stream",
          "name": "stderr",
          "text": [
            "<ipython-input-9-cdfdf56263b9>:9: FutureWarning: \n",
            "\n",
            "Passing `palette` without assigning `hue` is deprecated and will be removed in v0.14.0. Assign the `x` variable to `hue` and set `legend=False` for the same effect.\n",
            "\n",
            "  sns.barplot(x=status_counts.index, y=status_counts.values, palette=\"viridis\")\n"
          ]
        },
        {
          "output_type": "display_data",
          "data": {
            "text/plain": [
              "<Figure size 800x500 with 1 Axes>"
            ],
            "image/png": "[encoded data removed]"
          },
          "metadata": {}
        }
      ]
    },
    {
      "cell_type": "code",
      "source": [
        "df['status'].unique()"
      ],
      "metadata": {
        "colab": {
          "base_uri": "https://localhost:8080/"
        },
        "id": "0D5G8OKW5YQl",
        "outputId": "e79263b7-dc9b-4a0c-c99c-abefce0084e5"
      },
      "execution_count": 10,
      "outputs": [
        {
          "output_type": "execute_result",
          "data": {
            "text/plain": [
              "array(['Anxiety', 'Normal', 'Depression', 'Suicidal', 'Stress', 'Bipolar',\n",
              "       'Personality disorder'], dtype=object)"
            ]
          },
          "metadata": {},
          "execution_count": 10
        }
      ]
    },
    {
      "cell_type": "code",
      "source": [
        "classes = np.array(['Anxiety', 'Normal', 'Depression', 'Suicidal', 'Stress', 'Bipolar', 'Personality disorder'])"
      ],
      "metadata": {
        "id": "Jp-7RLsD6kRN"
      },
      "execution_count": 11,
      "outputs": []
    },
    {
      "cell_type": "code",
      "source": [
        "def transform_class(class_name):\n",
        "    return np.where(classes == class_name)[0][0]  # Return class index instead of one-hot vector\n",
        "\n",
        "def rev_transform_class(class_idx):\n",
        "    return classes[class_idx]  # Get class label from index"
      ],
      "metadata": {
        "id": "fvFETlZE6k8c"
      },
      "execution_count": 12,
      "outputs": []
    },
    {
      "cell_type": "code",
      "source": [
        "x_train, x_test, y_train, y_test = train_test_split(df['statement'].values, df['status'].values, random_state=42, test_size=0.2)"
      ],
      "metadata": {
        "id": "KXb4j0BW6qC1"
      },
      "execution_count": 13,
      "outputs": []
    },
    {
      "cell_type": "code",
      "source": [
        "# Tokenization\n",
        "tokenizer = Tokenizer(oov_token='UNK', lower=True)\n",
        "tokenizer.fit_on_texts(x_train)"
      ],
      "metadata": {
        "id": "_ROaJ4EC6rGt"
      },
      "execution_count": 14,
      "outputs": []
    },
    {
      "cell_type": "code",
      "source": [
        "x_train_tokenized = tokenizer.texts_to_sequences(x_train)\n",
        "x_test_tokenized = tokenizer.texts_to_sequences(x_test)"
      ],
      "metadata": {
        "id": "YTPfZJRh6wjl"
      },
      "execution_count": 15,
      "outputs": []
    },
    {
      "cell_type": "code",
      "source": [
        "max_len = max([len(x) for x in x_train_tokenized])\n",
        "x_train_tokenized_padded = pad_sequences(x_train_tokenized, maxlen=max_len)\n",
        "x_test_tokenized_padded = pad_sequences(x_test_tokenized, maxlen=max_len)\n",
        "\n",
        "# Convert labels to indices (not one-hot)\n",
        "y_train = np.array([transform_class(y) for y in y_train])\n",
        "y_test = np.array([transform_class(y) for y in y_test])"
      ],
      "metadata": {
        "id": "8nblcig761u2"
      },
      "execution_count": 16,
      "outputs": []
    },
    {
      "cell_type": "code",
      "source": [
        "class CustomDataset(Dataset):\n",
        "    def __init__(self, x, y):\n",
        "        self.x = x\n",
        "        self.y = y\n",
        "\n",
        "    def __len__(self):\n",
        "        return self.x.shape[0]\n",
        "\n",
        "    def __getitem__(self, idx):\n",
        "        x = torch.tensor(self.x[idx], dtype=torch.long)  # Convert to tensor\n",
        "        y = torch.tensor(self.y[idx], dtype=torch.long)  # Return index instead of one-hot\n",
        "        return x, y"
      ],
      "metadata": {
        "id": "Ie-BQGFI64i_"
      },
      "execution_count": 17,
      "outputs": []
    },
    {
      "cell_type": "code",
      "source": [
        "batch_size = 24\n",
        "train_dataloader = DataLoader(CustomDataset(x_train_tokenized_padded, y_train), shuffle=True, batch_size=batch_size)\n",
        "test_dataloader = DataLoader(CustomDataset(x_test_tokenized_padded, y_test), shuffle=False, batch_size=batch_size)"
      ],
      "metadata": {
        "id": "gMKfjg8M65CW"
      },
      "execution_count": 18,
      "outputs": []
    },
    {
      "cell_type": "code",
      "source": [
        "class Model(nn.Module):\n",
        "    def __init__(self, vocab_size, embedding_size, num_hidden, num_lstm, num_classes):\n",
        "        super().__init__()\n",
        "        self.embd = nn.Embedding(vocab_size, embedding_size, padding_idx=0)\n",
        "        self.lstm = nn.LSTM(embedding_size, num_hidden, bidirectional=True, num_layers=num_lstm, batch_first=True)\n",
        "        self.linear = nn.Linear(2 * num_hidden * max_len, num_classes)\n",
        "\n",
        "    def forward(self, x):\n",
        "        x = self.embd(x)\n",
        "        x, _ = self.lstm(x)\n",
        "        x = x.flatten(start_dim=1)  # Flatten LSTM output\n",
        "        x = self.linear(x)\n",
        "        return x  # No activation here (CrossEntropyLoss includes softmax)"
      ],
      "metadata": {
        "id": "6vSJYrmo7BNP"
      },
      "execution_count": 19,
      "outputs": []
    },
    {
      "cell_type": "code",
      "source": [
        "# Model Initialization\n",
        "vocab_size = len(tokenizer.word_index) + 1\n",
        "embedding_size = 64\n",
        "num_hidden = 64\n",
        "num_lstm = 1\n",
        "num_classes = len(classes)\n",
        "\n",
        "device = torch.device('cuda' if torch.cuda.is_available() else 'cpu')\n",
        "model = Model(vocab_size, embedding_size, num_hidden, num_lstm, num_classes).to(device)\n",
        "\n",
        "# Loss and Optimizer\n",
        "criterion = nn.CrossEntropyLoss()  # No need for one-hot encoding\n",
        "optimizer = torch.optim.Adagrad(model.parameters(), lr=1e-2, weight_decay=1e-4)"
      ],
      "metadata": {
        "id": "zLkGNzAB7FSA"
      },
      "execution_count": 20,
      "outputs": []
    },
    {
      "cell_type": "code",
      "source": [
        "epochs = 10\n",
        "avg_loss = []\n",
        "avg_acc = []"
      ],
      "metadata": {
        "id": "z5ZGNzCk7JEw"
      },
      "execution_count": 22,
      "outputs": []
    },
    {
      "cell_type": "code",
      "source": [
        "for e in range(epochs):\n",
        "    print(f'\\nEpoch {e+1}/{epochs}')\n",
        "    acc = 0\n",
        "    loss_acc = 0\n",
        "    n = 0\n",
        "    model.train()\n",
        "\n",
        "    for x, y in tqdm(train_dataloader):\n",
        "        x, y = x.to(device), y.to(device)\n",
        "        optimizer.zero_grad()\n",
        "        pred = model(x)\n",
        "\n",
        "        loss = criterion(pred, y)\n",
        "        loss.backward()\n",
        "        optimizer.step()\n",
        "\n",
        "        op = pred.argmax(dim=1)  # Get class with highest probability\n",
        "        acc += (op == y).sum().item()\n",
        "        n += y.shape[0]\n",
        "        loss_acc += loss.detach().item()\n",
        "\n",
        "    avg_loss.append(loss_acc / len(train_dataloader))\n",
        "    avg_acc.append(acc / n)\n",
        "\n",
        "    print(f'Avg Loss: {avg_loss[-1]:.4f}, Avg Acc: {avg_acc[-1]:.4f}')"
      ],
      "metadata": {
        "colab": {
          "base_uri": "https://localhost:8080/"
        },
        "id": "1IhIxPui7OVq",
        "outputId": "7c1986bb-caec-4c6c-efde-26950f54bb96"
      },
      "execution_count": 23,
      "outputs": [
        {
          "output_type": "stream",
          "name": "stdout",
          "text": [
            "\n",
            "Epoch 1/10\n"
          ]
        },
        {
          "output_type": "stream",
          "name": "stderr",
          "text": [
            "100%|██████████| 1756/1756 [01:17<00:00, 22.64it/s]\n"
          ]
        },
        {
          "output_type": "stream",
          "name": "stdout",
          "text": [
            "Avg Loss: 1.7894, Avg Acc: 0.5963\n",
            "\n",
            "Epoch 2/10\n"
          ]
        },
        {
          "output_type": "stream",
          "name": "stderr",
          "text": [
            "100%|██████████| 1756/1756 [01:18<00:00, 22.41it/s]\n"
          ]
        },
        {
          "output_type": "stream",
          "name": "stdout",
          "text": [
            "Avg Loss: 0.6500, Avg Acc: 0.7606\n",
            "\n",
            "Epoch 3/10\n"
          ]
        },
        {
          "output_type": "stream",
          "name": "stderr",
          "text": [
            "100%|██████████| 1756/1756 [01:19<00:00, 22.00it/s]\n"
          ]
        },
        {
          "output_type": "stream",
          "name": "stdout",
          "text": [
            "Avg Loss: 0.5371, Avg Acc: 0.8080\n",
            "\n",
            "Epoch 4/10\n"
          ]
        },
        {
          "output_type": "stream",
          "name": "stderr",
          "text": [
            "100%|██████████| 1756/1756 [01:20<00:00, 21.83it/s]\n"
          ]
        },
        {
          "output_type": "stream",
          "name": "stdout",
          "text": [
            "Avg Loss: 0.4659, Avg Acc: 0.8395\n",
            "\n",
            "Epoch 5/10\n"
          ]
        },
        {
          "output_type": "stream",
          "name": "stderr",
          "text": [
            "100%|██████████| 1756/1756 [01:20<00:00, 21.90it/s]\n"
          ]
        },
        {
          "output_type": "stream",
          "name": "stdout",
          "text": [
            "Avg Loss: 0.4150, Avg Acc: 0.8598\n",
            "\n",
            "Epoch 6/10\n"
          ]
        },
        {
          "output_type": "stream",
          "name": "stderr",
          "text": [
            "100%|██████████| 1756/1756 [01:20<00:00, 21.88it/s]\n"
          ]
        },
        {
          "output_type": "stream",
          "name": "stdout",
          "text": [
            "Avg Loss: 0.3758, Avg Acc: 0.8748\n",
            "\n",
            "Epoch 7/10\n"
          ]
        },
        {
          "output_type": "stream",
          "name": "stderr",
          "text": [
            "100%|██████████| 1756/1756 [01:20<00:00, 21.93it/s]\n"
          ]
        },
        {
          "output_type": "stream",
          "name": "stdout",
          "text": [
            "Avg Loss: 0.3435, Avg Acc: 0.8885\n",
            "\n",
            "Epoch 8/10\n"
          ]
        },
        {
          "output_type": "stream",
          "name": "stderr",
          "text": [
            "100%|██████████| 1756/1756 [01:20<00:00, 21.91it/s]\n"
          ]
        },
        {
          "output_type": "stream",
          "name": "stdout",
          "text": [
            "Avg Loss: 0.3172, Avg Acc: 0.8982\n",
            "\n",
            "Epoch 9/10\n"
          ]
        },
        {
          "output_type": "stream",
          "name": "stderr",
          "text": [
            "100%|██████████| 1756/1756 [01:20<00:00, 21.87it/s]\n"
          ]
        },
        {
          "output_type": "stream",
          "name": "stdout",
          "text": [
            "Avg Loss: 0.2936, Avg Acc: 0.9069\n",
            "\n",
            "Epoch 10/10\n"
          ]
        },
        {
          "output_type": "stream",
          "name": "stderr",
          "text": [
            "100%|██████████| 1756/1756 [01:20<00:00, 21.82it/s]"
          ]
        },
        {
          "output_type": "stream",
          "name": "stdout",
          "text": [
            "Avg Loss: 0.2725, Avg Acc: 0.9153\n"
          ]
        },
        {
          "output_type": "stream",
          "name": "stderr",
          "text": [
            "\n"
          ]
        }
      ]
    },
    {
      "cell_type": "code",
      "source": [
        "model.eval()\n",
        "test_acc = 0\n",
        "n_test = 0\n",
        "\n",
        "with torch.no_grad():\n",
        "    for x, y in test_dataloader:\n",
        "        x, y = x.to(device), y.to(device)\n",
        "        pred = model(x)\n",
        "        op = pred.argmax(dim=1)\n",
        "        test_acc += (op == y).sum().item()\n",
        "        n_test += y.shape[0]\n",
        "\n",
        "print(f\"\\nTest Accuracy: {test_acc / n_test:.4f}\")"
      ],
      "metadata": {
        "colab": {
          "base_uri": "https://localhost:8080/"
        },
        "id": "VUTQx8UN7UEJ",
        "outputId": "4872e319-c54f-4803-f86f-13c94c5170c7"
      },
      "execution_count": 24,
      "outputs": [
        {
          "output_type": "stream",
          "name": "stdout",
          "text": [
            "\n",
            "Test Accuracy: 0.7463\n"
          ]
        }
      ]
    },
    {
      "cell_type": "markdown",
      "source": [
        "# Inferencing"
      ],
      "metadata": {
        "id": "WovXmHGj_TmD"
      }
    },
    {
      "cell_type": "code",
      "source": [
        "def preprocess_text(text, tokenizer, max_len):\n",
        "    tokenized = tokenizer.texts_to_sequences([text])  # Tokenize\n",
        "    padded = pad_sequences(tokenized, maxlen=max_len)  # Pad sequence\n",
        "    return torch.tensor(padded, dtype=torch.long).to(device)  # Convert to tensor"
      ],
      "metadata": {
        "id": "gXT5oIzR_OOL"
      },
      "execution_count": 25,
      "outputs": []
    },
    {
      "cell_type": "code",
      "source": [
        "def predict(text, model, tokenizer, max_len, index_to_class):\n",
        "    model.eval()  # Set model to evaluation mode\n",
        "    with torch.no_grad():  # No gradient calculation needed\n",
        "        input_tensor = preprocess_text(text, tokenizer, max_len)  # Preprocess text\n",
        "        output = model(input_tensor)  # Get model output\n",
        "        predicted_class_idx = torch.argmax(output, dim=1).item()  # Get class index\n",
        "        predicted_class = index_to_class[predicted_class_idx]  # Convert to label\n",
        "        return predicted_class"
      ],
      "metadata": {
        "id": "hnVJoeB8_XWP"
      },
      "execution_count": 26,
      "outputs": []
    },
    {
      "cell_type": "code",
      "source": [
        "# Define class mapping (inverse of class_to_index)\n",
        "index_to_class = {idx: cls for idx, cls in enumerate(classes)}"
      ],
      "metadata": {
        "id": "UJnaYm_NACgo"
      },
      "execution_count": 28,
      "outputs": []
    },
    {
      "cell_type": "code",
      "source": [
        "example_text = \"I feel so stressed and overwhelmed with everything.\"\n",
        "predicted_label = predict(example_text, model, tokenizer, max_len, index_to_class)\n",
        "print(f\"Predicted Class: {predicted_label}\")"
      ],
      "metadata": {
        "colab": {
          "base_uri": "https://localhost:8080/"
        },
        "id": "IFPg7oWc_bC0",
        "outputId": "ac204963-fdc6-41f8-c4cf-8c1f8341881d"
      },
      "execution_count": 29,
      "outputs": [
        {
          "output_type": "stream",
          "name": "stdout",
          "text": [
            "Predicted Class: Normal\n"
          ]
        }
      ]
    },
    {
      "cell_type": "code",
      "source": [
        "test_samples = [\n",
        "    \"I feel so anxious all the time, my heart races and I can't focus.\",  # Anxiety\n",
        "    \"Everything is fine, I have no issues at all.\",  # Normal\n",
        "    \"I feel extremely low and have no motivation to do anything.\",  # Depression\n",
        "    \"Life feels meaningless, and I keep having thoughts of ending it.\",  # Suicidal\n",
        "    \"Work pressure is overwhelming, and I feel so stressed out.\",  # Stress\n",
        "    \"I experience extreme mood swings from being super happy to very depressed.\",  # Bipolar\n",
        "    \"I struggle to relate to people, and my emotions feel all over the place.\",  # Personality disorder\n",
        "]"
      ],
      "metadata": {
        "id": "zLBk_pKBAPLR"
      },
      "execution_count": 30,
      "outputs": []
    },
    {
      "cell_type": "code",
      "source": [
        "for text in test_samples:\n",
        "    predicted_label = predict(text, model, tokenizer, max_len, index_to_class)\n",
        "    print(f\"Text: {text}\\nPredicted Class: {predicted_label}\\n\")"
      ],
      "metadata": {
        "colab": {
          "base_uri": "https://localhost:8080/"
        },
        "id": "G47T8SOiAR_B",
        "outputId": "9a3e5bcc-c2a5-4ee8-81bb-d26c050a3c43"
      },
      "execution_count": 31,
      "outputs": [
        {
          "output_type": "stream",
          "name": "stdout",
          "text": [
            "Text: I feel so anxious all the time, my heart races and I can't focus.\n",
            "Predicted Class: Anxiety\n",
            "\n",
            "Text: Everything is fine, I have no issues at all.\n",
            "Predicted Class: Normal\n",
            "\n",
            "Text: I feel extremely low and have no motivation to do anything.\n",
            "Predicted Class: Depression\n",
            "\n",
            "Text: Life feels meaningless, and I keep having thoughts of ending it.\n",
            "Predicted Class: Depression\n",
            "\n",
            "Text: Work pressure is overwhelming, and I feel so stressed out.\n",
            "Predicted Class: Normal\n",
            "\n",
            "Text: I experience extreme mood swings from being super happy to very depressed.\n",
            "Predicted Class: Depression\n",
            "\n",
            "Text: I struggle to relate to people, and my emotions feel all over the place.\n",
            "Predicted Class: Normal\n",
            "\n"
          ]
        }
      ]
    },
    {
      "cell_type": "code",
      "source": [
        "suicidal_samples = [\n",
        "    \"I feel like there's no point in continuing anymore.\",\n",
        "    \"The pain is unbearable, and I just want it all to stop.\",\n",
        "    \"No one would even notice if I was gone.\",\n",
        "    \"I keep thinking about ways to end this suffering.\",\n",
        "    \"I feel empty, hopeless, and like there's no way out.\",\n",
        "    \"Lately, I've been thinking a lot about death and how peaceful it sounds.\",\n",
        "    \"I don't see a future for myself anymore.\",\n",
        "]\n",
        "for text in suicidal_samples:\n",
        "    predicted_label = predict(text, model, tokenizer, max_len, index_to_class)\n",
        "    print(f\"Text: {text}\\nPredicted Class: {predicted_label}\\n\")\n"
      ],
      "metadata": {
        "colab": {
          "base_uri": "https://localhost:8080/"
        },
        "id": "qhBLxrAHAc8K",
        "outputId": "31e600e0-485b-4ad6-d57b-1ac23366119a"
      },
      "execution_count": 32,
      "outputs": [
        {
          "output_type": "stream",
          "name": "stdout",
          "text": [
            "Text: I feel like there's no point in continuing anymore.\n",
            "Predicted Class: Suicidal\n",
            "\n",
            "Text: The pain is unbearable, and I just want it all to stop.\n",
            "Predicted Class: Suicidal\n",
            "\n",
            "Text: No one would even notice if I was gone.\n",
            "Predicted Class: Normal\n",
            "\n",
            "Text: I keep thinking about ways to end this suffering.\n",
            "Predicted Class: Normal\n",
            "\n",
            "Text: I feel empty, hopeless, and like there's no way out.\n",
            "Predicted Class: Normal\n",
            "\n",
            "Text: Lately, I've been thinking a lot about death and how peaceful it sounds.\n",
            "Predicted Class: Normal\n",
            "\n",
            "Text: I don't see a future for myself anymore.\n",
            "Predicted Class: Suicidal\n",
            "\n"
          ]
        }
      ]
    },
    {
      "cell_type": "markdown",
      "source": [
        "# METRICS"
      ],
      "metadata": {
        "id": "0tH5OYKiAz1O"
      }
    },
    {
      "cell_type": "code",
      "source": [
        "import torch\n",
        "import numpy as np\n",
        "from sklearn.metrics import confusion_matrix, classification_report\n",
        "\n",
        "# Set model to evaluation mode\n",
        "model.eval()\n",
        "\n",
        "# Store true labels and predictions\n",
        "all_preds = []\n",
        "all_labels = []\n",
        "\n",
        "with torch.no_grad():\n",
        "    for x, y in test_dataloader:\n",
        "        x, y = x.to(device), y.to(device)\n",
        "\n",
        "        pred = model(x)\n",
        "        op = pred.argmax(dim=1)  # Get predicted class index\n",
        "\n",
        "        all_preds.extend(op.cpu().numpy())  # Move to CPU for sklearn\n",
        "        all_labels.extend(y.cpu().numpy())\n",
        "\n",
        "# Convert lists to NumPy arrays\n",
        "all_preds = np.array(all_preds)\n",
        "all_labels = np.array(all_labels)\n"
      ],
      "metadata": {
        "id": "G9g4xH-JAfMb"
      },
      "execution_count": 33,
      "outputs": []
    },
    {
      "cell_type": "code",
      "source": [
        "import numpy as np\n",
        "from sklearn.metrics import confusion_matrix, classification_report\n",
        "import seaborn as sns\n",
        "import matplotlib.pyplot as plt\n",
        "\n",
        "# Define class labels\n",
        "class_labels = ['Anxiety', 'Normal', 'Depression', 'Suicidal', 'Stress', 'Bipolar', 'Personality Disorder']\n",
        "\n",
        "# Compute confusion matrix\n",
        "cm = confusion_matrix(all_labels, all_preds)\n",
        "\n",
        "# Normalize the confusion matrix (row-wise normalization)\n",
        "cm_normalized = cm.astype('float') / cm.sum(axis=1)[:, np.newaxis]\n",
        "\n",
        "# Plot normalized confusion matrix\n",
        "plt.figure(figsize=(8, 6))\n",
        "sns.heatmap(cm_normalized, annot=True, fmt=\".2f\", cmap=\"Blues\", xticklabels=class_labels, yticklabels=class_labels)\n",
        "plt.xlabel(\"Predicted\")\n",
        "plt.ylabel(\"Actual\")\n",
        "plt.title(\"Normalized Confusion Matrix\")\n",
        "plt.show()\n",
        "\n",
        "# Print classification report\n",
        "print(\"\\nClassification Report:\\n\")\n",
        "print(classification_report(all_labels, all_preds, target_names=class_labels))"
      ],
      "metadata": {
        "colab": {
          "base_uri": "https://localhost:8080/",
          "height": 985
        },
        "id": "eDIoqd_7A3dN",
        "outputId": "312423de-adc9-48d0-aeba-a894ecaa5c56"
      },
      "execution_count": 35,
      "outputs": [
        {
          "output_type": "display_data",
          "data": {
            "text/plain": [
              "<Figure size 800x600 with 2 Axes>"
            ],
            "image/png": "[encoded data removed]"
          },
          "metadata": {}
        },
        {
          "output_type": "stream",
          "name": "stdout",
          "text": [
            "\n",
            "Classification Report:\n",
            "\n",
            "                      precision    recall  f1-score   support\n",
            "\n",
            "             Anxiety       0.79      0.75      0.77       755\n",
            "              Normal       0.90      0.95      0.92      3308\n",
            "          Depression       0.69      0.67      0.68      3016\n",
            "            Suicidal       0.64      0.66      0.65      2158\n",
            "              Stress       0.53      0.51      0.52       536\n",
            "             Bipolar       0.64      0.69      0.66       527\n",
            "Personality Disorder       0.67      0.35      0.46       237\n",
            "\n",
            "            accuracy                           0.75     10537\n",
            "           macro avg       0.69      0.65      0.67     10537\n",
            "        weighted avg       0.74      0.75      0.74     10537\n",
            "\n"
          ]
        }
      ]
    }
  ]
}